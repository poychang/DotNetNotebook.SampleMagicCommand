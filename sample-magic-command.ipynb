{
 "metadata": {
  "kernelspec": {
   "display_name": ".NET (C#)",
   "language": "C#",
   "name": ".net-csharp"
  },
  "language_info": {
   "name": "C#"
  }
 },
 "cells": [
  {
   "cell_type": "markdown",
   "source": [
    "# 建置 Sample Magic Command 套件\r\n",
    "\r\n",
    "先執行建置專案的指令，並將套件打包成 NuGet 檔案存放在專案資料夾中。\r\n",
    "\r\n",
    ">測試時請注意版本號！"
   ],
   "metadata": {}
  },
  {
   "cell_type": "code",
   "execution_count": null,
   "source": [
    "#!pwsh\r\n",
    "# 1. 建置專案\r\n",
    "dotnet build\r\n",
    "\r\n",
    "# 2. 打包成 NuGet 套件。請注意，每次打包時請遞增版本號，因為安裝之後，該套件會快取在 NuGet Cache 中，每次增加版本號可以避免找不到正確版本的問題\r\n",
    "dotnet pack /p:PackageVersion=1.0.2\r\n",
    "\r\n",
    "# 3. 檢查 NuGet 套件是否存在\r\n",
    "Get-ChildItem -Recurse DotNetNotebook.SampleMagicCommand*.nupkg"
   ],
   "outputs": [],
   "metadata": {
    "dotnet_interactive": {
     "language": "pwsh"
    }
   }
  },
  {
   "cell_type": "markdown",
   "source": [
    "安裝 NuGet 套件\r\n",
    "\r\n",
    ">測試時請注意版本號！"
   ],
   "metadata": {}
  },
  {
   "cell_type": "code",
   "execution_count": null,
   "source": [
    "#i nuget:C:\\Users\\poychang\\Code\\Github\\DotNetNotebook.SampleMagicCommand\\DotNetNotebook.SampleMagicCommand\\bin\\Debug\\\r\n",
    "#r \"nuget:DotNetNotebook.SampleMagicCommand,1.0.2\""
   ],
   "outputs": [
    {
     "data": {
      "text/html": [
       "<div><div><strong>Restore sources</strong><ul><li><span>C:\\Users\\poychang\\Code\\Github\\DotNetNotebook.SampleMagicCommand\\DotNetNotebook.SampleMagicCommand\\bin\\Debug\\</span></li></ul></div><div></div><div><strong>Installed Packages</strong><ul><li><span>DotNetNotebook.SampleMagicCommand, 1.0.2</span></li></ul></div></div>"
      ]
     },
     "metadata": {},
     "output_type": "display_data"
    },
    {
     "data": {
      "text/markdown": [
       "Loading extensions from `DotNetNotebook.SampleMagicCommand.dll`"
      ]
     },
     "metadata": {},
     "output_type": "display_data"
    },
    {
     "data": {
      "text/html": [
       "<div><code>SampleMagicCommand</code> is loaded.<br />Try it: <code>#!sample -n [your-name]</code></div>"
      ]
     },
     "metadata": {},
     "output_type": "display_data"
    }
   ],
   "metadata": {
    "dotnet_interactive": {
     "language": "csharp"
    }
   }
  },
  {
   "cell_type": "markdown",
   "source": [
    "可以執行 `#!sample --help` 顯示該 Magic Command 的使用說明"
   ],
   "metadata": {}
  },
  {
   "cell_type": "code",
   "execution_count": null,
   "source": [
    "#!sample --help"
   ],
   "outputs": [],
   "metadata": {
    "dotnet_interactive": {
     "language": "csharp"
    }
   }
  },
  {
   "cell_type": "markdown",
   "source": [
    "基本的使用方式如下："
   ],
   "metadata": {}
  },
  {
   "cell_type": "code",
   "execution_count": null,
   "source": [
    "#!sample --name PoyChang"
   ],
   "outputs": [
    {
     "data": {
      "text/html": [
       "<h3>Magic Command gets your name, PoyChang</h3>"
      ]
     },
     "metadata": {},
     "output_type": "display_data"
    },
    {
     "output_type": "stream",
     "name": "stdout",
     "text": [
      "Hello PoyChang!\r\n"
     ]
    }
   ],
   "metadata": {
    "dotnet_interactive": {
     "language": "csharp"
    }
   }
  }
 ],
 "nbformat": 4,
 "nbformat_minor": 2
}